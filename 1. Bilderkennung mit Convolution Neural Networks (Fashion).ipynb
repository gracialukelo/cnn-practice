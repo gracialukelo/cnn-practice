{
 "cells": [
  {
   "cell_type": "markdown",
   "id": "fb329d27",
   "metadata": {},
   "source": [
    "# Convolution Neural Network"
   ]
  },
  {
   "cell_type": "code",
   "execution_count": 4,
   "id": "dd01722a",
   "metadata": {},
   "outputs": [],
   "source": [
    "import warnings\n",
    "warnings.filterwarnings('ignore')"
   ]
  },
  {
   "cell_type": "code",
   "execution_count": 5,
   "id": "3c6fb70b",
   "metadata": {},
   "outputs": [],
   "source": [
    "import keras"
   ]
  },
  {
   "cell_type": "code",
   "execution_count": 6,
   "id": "7c825bac",
   "metadata": {},
   "outputs": [
    {
     "data": {
      "text/plain": [
       "'2.15.0'"
      ]
     },
     "execution_count": 6,
     "metadata": {},
     "output_type": "execute_result"
    }
   ],
   "source": [
    "keras.__version__"
   ]
  },
  {
   "cell_type": "code",
   "execution_count": 7,
   "id": "e1ceebc1",
   "metadata": {},
   "outputs": [],
   "source": [
    "import gzip\n",
    "import numpy as np\n",
    "from keras.utils import to_categorical\n",
    "\n",
    "def open_images(filename):\n",
    "    with gzip.open(filename, \"rb\") as file:\n",
    "        data = file.read()\n",
    "        return np.frombuffer(data, dtype=np.uint8, offset=16)\\\n",
    "            .reshape(-1, 28, 28)\\\n",
    "            .astype(np.float32)\n",
    "\n",
    "\n",
    "def open_labels(filename):\n",
    "    with gzip.open(filename, \"rb\") as file:\n",
    "        data = file.read()\n",
    "        return np.frombuffer(data, dtype=np.uint8, offset=8)\n",
    "    \n",
    "X_train = open_images(\"/Users/gracialukelo/Engineering/Artificial Intelligence/Data/fashion/train-images-idx3-ubyte.gz\")\n",
    "y_train = open_labels(\"/Users/gracialukelo/Engineering/Artificial Intelligence/Data/fashion/train-labels-idx1-ubyte.gz\")\n",
    "\n",
    "X_test = open_images(\"/Users/gracialukelo/Engineering/Artificial Intelligence/Data/fashion/t10k-images-idx3-ubyte.gz\")\n",
    "y_test = open_labels(\"/Users/gracialukelo/Engineering/Artificial Intelligence/Data/fashion/t10k-labels-idx1-ubyte.gz\")\n",
    "\n",
    "y_train = to_categorical(y_train)\n",
    "y_test = to_categorical(y_test)"
   ]
  },
  {
   "cell_type": "code",
   "execution_count": 8,
   "id": "ff0bb847",
   "metadata": {},
   "outputs": [
    {
     "data": {
      "text/plain": [
       "((60000, 28, 28), (60000, 10), (10000, 28, 28), (10000, 10))"
      ]
     },
     "execution_count": 8,
     "metadata": {},
     "output_type": "execute_result"
    }
   ],
   "source": [
    "X_train.shape, y_train.shape, X_test.shape, y_test.shape"
   ]
  },
  {
   "cell_type": "code",
   "execution_count": 9,
   "id": "eecbf2ec",
   "metadata": {},
   "outputs": [],
   "source": [
    "# X_train = X_train.reshape(60000, 784)\n",
    "# X_test = X_test.reshape(10000, 784)\n",
    "# X_train.shape, X_test.shape"
   ]
  },
  {
   "cell_type": "code",
   "execution_count": 11,
   "id": "c0a0a4b5",
   "metadata": {},
   "outputs": [
    {
     "name": "stdout",
     "output_type": "stream",
     "text": [
      "Model: \"sequential_1\"\n",
      "_________________________________________________________________\n",
      " Layer (type)                Output Shape              Param #   \n",
      "=================================================================\n",
      " conv2d_1 (Conv2D)           (None, 26, 26, 30)        300       \n",
      "                                                                 \n",
      " flatten_1 (Flatten)         (None, 20280)             0         \n",
      "                                                                 \n",
      " dense_1 (Dense)             (None, 10)                202810    \n",
      "                                                                 \n",
      "=================================================================\n",
      "Total params: 203110 (793.40 KB)\n",
      "Trainable params: 203110 (793.40 KB)\n",
      "Non-trainable params: 0 (0.00 Byte)\n",
      "_________________________________________________________________\n"
     ]
    }
   ],
   "source": [
    "from keras.models import Sequential\n",
    "from keras.layers import Dense, Conv2D, Flatten\n",
    "\n",
    "model = Sequential()\n",
    "\n",
    "model.add(Conv2D(30, kernel_size=(3,3), activation='relu', input_shape=(28,28,1)))\n",
    "\n",
    "# Die Filter wieder zusammenfügen als eine Ausgabe\n",
    "model.add(Flatten())\n",
    "model.add(Dense(10, activation='softmax'))\n",
    "\n",
    "model.compile(optimizer='adam', loss='categorical_crossentropy', metrics=['accuracy'])\n",
    "\n",
    "model.summary()"
   ]
  },
  {
   "cell_type": "code",
   "execution_count": 12,
   "id": "8ca195c2",
   "metadata": {},
   "outputs": [
    {
     "name": "stdout",
     "output_type": "stream",
     "text": [
      "Epoch 1/80\n",
      "60/60 [==============================] - 2s 30ms/step - loss: 16.9923 - accuracy: 0.7129\n",
      "Epoch 2/80\n",
      "60/60 [==============================] - 2s 31ms/step - loss: 1.4029 - accuracy: 0.8477\n",
      "Epoch 3/80\n",
      "60/60 [==============================] - 2s 30ms/step - loss: 0.6870 - accuracy: 0.8714\n",
      "Epoch 4/80\n",
      "60/60 [==============================] - 2s 30ms/step - loss: 0.4591 - accuracy: 0.8906\n",
      "Epoch 5/80\n",
      "60/60 [==============================] - 2s 31ms/step - loss: 0.3482 - accuracy: 0.9043\n",
      "Epoch 6/80\n",
      "60/60 [==============================] - 2s 31ms/step - loss: 0.2751 - accuracy: 0.9179\n",
      "Epoch 7/80\n",
      "60/60 [==============================] - 2s 31ms/step - loss: 0.2314 - accuracy: 0.9255\n",
      "Epoch 8/80\n",
      "60/60 [==============================] - 2s 31ms/step - loss: 0.2038 - accuracy: 0.9330\n",
      "Epoch 9/80\n",
      "60/60 [==============================] - 2s 31ms/step - loss: 0.1869 - accuracy: 0.9362\n",
      "Epoch 10/80\n",
      "60/60 [==============================] - 2s 31ms/step - loss: 0.1745 - accuracy: 0.9402\n",
      "Epoch 11/80\n",
      "60/60 [==============================] - 2s 31ms/step - loss: 0.1537 - accuracy: 0.9459\n",
      "Epoch 12/80\n",
      "60/60 [==============================] - 2s 31ms/step - loss: 0.1361 - accuracy: 0.9515\n",
      "Epoch 13/80\n",
      "60/60 [==============================] - 2s 31ms/step - loss: 0.1306 - accuracy: 0.9535\n",
      "Epoch 14/80\n",
      "60/60 [==============================] - 2s 30ms/step - loss: 0.1178 - accuracy: 0.9579\n",
      "Epoch 15/80\n",
      "60/60 [==============================] - 2s 31ms/step - loss: 0.1167 - accuracy: 0.9588\n",
      "Epoch 16/80\n",
      "60/60 [==============================] - 2s 32ms/step - loss: 0.1041 - accuracy: 0.9625\n",
      "Epoch 17/80\n",
      "60/60 [==============================] - 2s 31ms/step - loss: 0.1010 - accuracy: 0.9642\n",
      "Epoch 18/80\n",
      "60/60 [==============================] - 2s 31ms/step - loss: 0.0970 - accuracy: 0.9656\n",
      "Epoch 19/80\n",
      "60/60 [==============================] - 2s 31ms/step - loss: 0.0915 - accuracy: 0.9680\n",
      "Epoch 20/80\n",
      "60/60 [==============================] - 2s 30ms/step - loss: 0.0817 - accuracy: 0.9713\n",
      "Epoch 21/80\n",
      "60/60 [==============================] - 2s 31ms/step - loss: 0.0826 - accuracy: 0.9708\n",
      "Epoch 22/80\n",
      "60/60 [==============================] - 2s 31ms/step - loss: 0.0874 - accuracy: 0.9682\n",
      "Epoch 23/80\n",
      "60/60 [==============================] - 2s 30ms/step - loss: 0.0781 - accuracy: 0.9713\n",
      "Epoch 24/80\n",
      "60/60 [==============================] - 2s 30ms/step - loss: 0.0738 - accuracy: 0.9739\n",
      "Epoch 25/80\n",
      "60/60 [==============================] - 2s 31ms/step - loss: 0.0770 - accuracy: 0.9724\n",
      "Epoch 26/80\n",
      "60/60 [==============================] - 2s 30ms/step - loss: 0.0710 - accuracy: 0.9744\n",
      "Epoch 27/80\n",
      "60/60 [==============================] - 2s 31ms/step - loss: 0.0626 - accuracy: 0.9783\n",
      "Epoch 28/80\n",
      "60/60 [==============================] - 2s 31ms/step - loss: 0.0777 - accuracy: 0.9727\n",
      "Epoch 29/80\n",
      "60/60 [==============================] - 2s 31ms/step - loss: 0.0613 - accuracy: 0.9784\n",
      "Epoch 30/80\n",
      "60/60 [==============================] - 2s 32ms/step - loss: 0.0621 - accuracy: 0.9776\n",
      "Epoch 31/80\n",
      "60/60 [==============================] - 2s 31ms/step - loss: 0.0570 - accuracy: 0.9798\n",
      "Epoch 32/80\n",
      "60/60 [==============================] - 2s 31ms/step - loss: 0.0576 - accuracy: 0.9794\n",
      "Epoch 33/80\n",
      "60/60 [==============================] - 2s 32ms/step - loss: 0.0534 - accuracy: 0.9812\n",
      "Epoch 34/80\n",
      "60/60 [==============================] - 2s 31ms/step - loss: 0.0456 - accuracy: 0.9844\n",
      "Epoch 35/80\n",
      "60/60 [==============================] - 2s 30ms/step - loss: 0.0494 - accuracy: 0.9827\n",
      "Epoch 36/80\n",
      "60/60 [==============================] - 2s 30ms/step - loss: 0.0556 - accuracy: 0.9801\n",
      "Epoch 37/80\n",
      "60/60 [==============================] - 2s 30ms/step - loss: 0.0536 - accuracy: 0.9807\n",
      "Epoch 38/80\n",
      "60/60 [==============================] - 2s 31ms/step - loss: 0.0441 - accuracy: 0.9850\n",
      "Epoch 39/80\n",
      "60/60 [==============================] - 2s 31ms/step - loss: 0.0388 - accuracy: 0.9867\n",
      "Epoch 40/80\n",
      "60/60 [==============================] - 2s 30ms/step - loss: 0.0382 - accuracy: 0.9865\n",
      "Epoch 41/80\n",
      "60/60 [==============================] - 2s 31ms/step - loss: 0.0394 - accuracy: 0.9866\n",
      "Epoch 42/80\n",
      "60/60 [==============================] - 2s 31ms/step - loss: 0.0349 - accuracy: 0.9881\n",
      "Epoch 43/80\n",
      "60/60 [==============================] - 2s 31ms/step - loss: 0.0325 - accuracy: 0.9889\n",
      "Epoch 44/80\n",
      "60/60 [==============================] - 2s 31ms/step - loss: 0.0325 - accuracy: 0.9889\n",
      "Epoch 45/80\n",
      "60/60 [==============================] - 2s 31ms/step - loss: 0.0299 - accuracy: 0.9902\n",
      "Epoch 46/80\n",
      "60/60 [==============================] - 2s 31ms/step - loss: 0.0420 - accuracy: 0.9853\n",
      "Epoch 47/80\n",
      "60/60 [==============================] - 2s 31ms/step - loss: 0.0438 - accuracy: 0.9845\n",
      "Epoch 48/80\n",
      "60/60 [==============================] - 2s 31ms/step - loss: 0.0770 - accuracy: 0.9787\n",
      "Epoch 49/80\n",
      "60/60 [==============================] - 2s 31ms/step - loss: 0.1106 - accuracy: 0.9749\n",
      "Epoch 50/80\n",
      "60/60 [==============================] - 2s 31ms/step - loss: 0.0703 - accuracy: 0.9797\n",
      "Epoch 51/80\n",
      "60/60 [==============================] - 2s 32ms/step - loss: 0.0603 - accuracy: 0.9821\n",
      "Epoch 52/80\n",
      "60/60 [==============================] - 2s 31ms/step - loss: 0.0394 - accuracy: 0.9869\n",
      "Epoch 53/80\n",
      "60/60 [==============================] - 2s 31ms/step - loss: 0.0347 - accuracy: 0.9880\n",
      "Epoch 54/80\n",
      "60/60 [==============================] - 2s 31ms/step - loss: 0.0391 - accuracy: 0.9870\n",
      "Epoch 55/80\n",
      "60/60 [==============================] - 2s 31ms/step - loss: 0.0487 - accuracy: 0.9827\n",
      "Epoch 56/80\n",
      "60/60 [==============================] - 2s 31ms/step - loss: 0.0339 - accuracy: 0.9876\n",
      "Epoch 57/80\n",
      "60/60 [==============================] - 2s 31ms/step - loss: 0.0255 - accuracy: 0.9916\n",
      "Epoch 58/80\n",
      "60/60 [==============================] - 2s 32ms/step - loss: 0.0228 - accuracy: 0.9922\n",
      "Epoch 59/80\n",
      "60/60 [==============================] - 2s 33ms/step - loss: 0.0218 - accuracy: 0.9928\n",
      "Epoch 60/80\n",
      "60/60 [==============================] - 2s 31ms/step - loss: 0.0200 - accuracy: 0.9931\n",
      "Epoch 61/80\n",
      "60/60 [==============================] - 2s 31ms/step - loss: 0.0229 - accuracy: 0.9920\n",
      "Epoch 62/80\n",
      "60/60 [==============================] - 2s 31ms/step - loss: 0.0166 - accuracy: 0.9949\n",
      "Epoch 63/80\n",
      "60/60 [==============================] - 2s 31ms/step - loss: 0.0153 - accuracy: 0.9958\n",
      "Epoch 64/80\n",
      "60/60 [==============================] - 2s 31ms/step - loss: 0.0188 - accuracy: 0.9941\n",
      "Epoch 65/80\n",
      "60/60 [==============================] - 2s 32ms/step - loss: 0.0233 - accuracy: 0.9921\n",
      "Epoch 66/80\n",
      "60/60 [==============================] - 2s 31ms/step - loss: 0.0412 - accuracy: 0.9857\n",
      "Epoch 67/80\n",
      "60/60 [==============================] - 2s 31ms/step - loss: 0.0382 - accuracy: 0.9861\n",
      "Epoch 68/80\n",
      "60/60 [==============================] - 2s 31ms/step - loss: 0.0428 - accuracy: 0.9847\n",
      "Epoch 69/80\n",
      "60/60 [==============================] - 2s 31ms/step - loss: 0.0490 - accuracy: 0.9826\n",
      "Epoch 70/80\n",
      "60/60 [==============================] - 2s 31ms/step - loss: 0.0539 - accuracy: 0.9810\n",
      "Epoch 71/80\n",
      "60/60 [==============================] - 2s 31ms/step - loss: 0.0672 - accuracy: 0.9787\n",
      "Epoch 72/80\n",
      "60/60 [==============================] - 2s 31ms/step - loss: 0.0403 - accuracy: 0.9857\n",
      "Epoch 73/80\n",
      "60/60 [==============================] - 2s 31ms/step - loss: 0.0344 - accuracy: 0.9872\n",
      "Epoch 74/80\n",
      "60/60 [==============================] - 2s 31ms/step - loss: 0.0274 - accuracy: 0.9900\n",
      "Epoch 75/80\n",
      "60/60 [==============================] - 2s 30ms/step - loss: 0.0224 - accuracy: 0.9920\n",
      "Epoch 76/80\n",
      "60/60 [==============================] - 2s 31ms/step - loss: 0.0177 - accuracy: 0.9939\n",
      "Epoch 77/80\n",
      "60/60 [==============================] - 2s 31ms/step - loss: 0.0208 - accuracy: 0.9926\n",
      "Epoch 78/80\n",
      "60/60 [==============================] - 2s 31ms/step - loss: 0.0157 - accuracy: 0.9946\n",
      "Epoch 79/80\n",
      "60/60 [==============================] - 2s 31ms/step - loss: 0.0106 - accuracy: 0.9967\n",
      "Epoch 80/80\n",
      "60/60 [==============================] - 2s 31ms/step - loss: 0.0112 - accuracy: 0.9963\n"
     ]
    },
    {
     "data": {
      "text/plain": [
       "<keras.src.callbacks.History at 0x17787d2d0>"
      ]
     },
     "execution_count": 12,
     "metadata": {},
     "output_type": "execute_result"
    }
   ],
   "source": [
    "model.fit(\n",
    "    X_train.reshape(60000, 28, 28, 1),\n",
    "    y_train,\n",
    "    epochs=80,\n",
    "    batch_size=1000)"
   ]
  },
  {
   "cell_type": "code",
   "execution_count": 77,
   "id": "a74c455e",
   "metadata": {},
   "outputs": [
    {
     "name": "stdout",
     "output_type": "stream",
     "text": [
      "313/313 [==============================] - 0s 1ms/step - loss: 1.3034 - accuracy: 0.8827\n"
     ]
    },
    {
     "data": {
      "text/plain": [
       "(1.3033822774887085, 0.8827000260353088)"
      ]
     },
     "execution_count": 77,
     "metadata": {},
     "output_type": "execute_result"
    }
   ],
   "source": [
    "test_loss, test_accuracy = model.evaluate(X_test, y_test)\n",
    "test_loss, test_accuracy"
   ]
  },
  {
   "cell_type": "code",
   "execution_count": 82,
   "id": "33c3cfd8",
   "metadata": {},
   "outputs": [
    {
     "name": "stdout",
     "output_type": "stream",
     "text": [
      "[<tf.Variable 'conv2d_6/kernel:0' shape=(3, 3, 1, 30) dtype=float32, numpy=\n",
      "array([[[[ 1.33745551e-01,  1.40026718e-01, -6.93186894e-02,\n",
      "          -4.08855304e-02,  9.48455557e-02, -1.24237761e-01,\n",
      "           9.05219167e-02, -4.39592190e-02,  4.50476892e-02,\n",
      "          -1.07314445e-01,  1.99739665e-01,  1.06106929e-01,\n",
      "          -9.99079086e-03, -2.01559111e-01,  2.15565991e-02,\n",
      "          -1.76591054e-01, -2.05969941e-02, -3.24116088e-02,\n",
      "          -1.48745120e-01,  1.73949659e-01, -1.28205672e-01,\n",
      "           4.54935282e-02, -3.18470262e-02, -5.75095303e-02,\n",
      "          -1.43542007e-01, -1.41996175e-01, -1.42230317e-02,\n",
      "          -1.09381944e-01,  8.29085931e-02,  1.16676621e-01]],\n",
      "\n",
      "        [[-3.24694097e-01, -9.20593962e-02, -1.14553794e-01,\n",
      "          -8.37000608e-02,  5.89144789e-02, -1.09641561e-02,\n",
      "          -3.41589041e-02, -5.54509461e-02,  8.66889730e-02,\n",
      "           7.91516826e-02, -1.50751084e-01, -5.25291525e-02,\n",
      "          -9.55787674e-02, -5.53808212e-02,  3.35455276e-02,\n",
      "           1.24239706e-01, -5.94017021e-02,  2.07796562e-02,\n",
      "           1.55872375e-01, -2.10164502e-01,  1.58773199e-01,\n",
      "          -4.77127247e-02,  1.53024988e-02, -1.21146813e-02,\n",
      "           1.87050909e-01, -1.92403585e-01,  5.75785525e-02,\n",
      "          -7.09635690e-02,  7.41883144e-02, -1.39392614e-01]],\n",
      "\n",
      "        [[-6.90408289e-01, -4.96064126e-02, -1.28445989e-02,\n",
      "          -7.74742588e-02, -9.07452703e-02,  1.34717301e-01,\n",
      "          -1.52242944e-01,  3.80961448e-02, -7.47878253e-02,\n",
      "          -1.94591674e-04, -2.08201706e-02, -6.27915701e-03,\n",
      "          -1.80604011e-01,  1.10245705e-01, -7.94530511e-02,\n",
      "          -1.40006721e-01, -2.25555003e-02, -5.08162640e-02,\n",
      "          -5.06266393e-02, -9.13082957e-02,  3.24338004e-02,\n",
      "           2.55973134e-02,  3.72233316e-02,  1.01387449e-01,\n",
      "          -2.26564243e-01, -1.25170857e-01,  9.13416073e-02,\n",
      "          -1.19878463e-01,  1.15990592e-03, -1.47325248e-01]]],\n",
      "\n",
      "\n",
      "       [[[-8.34675282e-02,  5.64789958e-02,  1.09591270e-02,\n",
      "          -4.33936678e-02, -1.52259678e-01,  1.39450908e-01,\n",
      "          -9.14412551e-03,  3.26413810e-02, -3.04606138e-03,\n",
      "           8.32282379e-03, -1.10502303e-01, -4.19034995e-02,\n",
      "           5.48189804e-02,  1.46319538e-01,  8.53943974e-02,\n",
      "          -1.81747839e-01,  9.64406580e-02,  4.49874997e-02,\n",
      "          -2.80515905e-02,  8.32966790e-02,  6.85732365e-02,\n",
      "           2.39972863e-02, -5.74793294e-02,  9.73956883e-02,\n",
      "          -1.38441816e-01, -1.45036411e-02,  2.37839576e-02,\n",
      "           8.17296430e-02,  7.24106133e-02, -3.38299572e-02]],\n",
      "\n",
      "        [[ 1.65348887e-01, -1.29869580e-01, -1.09086342e-01,\n",
      "          -2.61495151e-02, -1.09428659e-01, -1.46468684e-01,\n",
      "           5.06484322e-02, -2.97824349e-02,  8.83568153e-02,\n",
      "           7.48170093e-02,  1.61119893e-01,  3.39437202e-02,\n",
      "          -2.48896610e-02,  2.77279932e-02, -5.08080907e-02,\n",
      "           1.43285826e-01,  8.62814337e-02,  5.90526462e-02,\n",
      "          -1.36500016e-01, -2.74073154e-01, -1.90189794e-01,\n",
      "           3.48351225e-02, -8.60830471e-02, -5.20227104e-02,\n",
      "          -3.65582816e-02,  3.65670398e-02, -7.76712447e-02,\n",
      "          -1.05264574e-01, -6.13212809e-02, -1.82088509e-01]],\n",
      "\n",
      "        [[ 5.71808703e-02,  7.36120641e-02, -2.61630565e-02,\n",
      "           8.07207301e-02, -5.59846610e-02, -1.33711770e-01,\n",
      "           9.75126177e-02,  4.71906923e-02, -8.30791295e-02,\n",
      "          -5.92308640e-02, -2.29374304e-01, -1.79411694e-02,\n",
      "           1.07938349e-01, -4.84358035e-02,  9.71854106e-03,\n",
      "           1.59071654e-01, -8.96694809e-02, -4.35401388e-02,\n",
      "          -4.36623506e-02, -3.71098556e-02,  2.14290526e-02,\n",
      "          -9.28657129e-02, -1.02828853e-01,  3.23664695e-02,\n",
      "          -1.85919981e-02, -4.05246653e-02, -8.16557705e-02,\n",
      "           1.54620335e-01,  2.61676665e-02, -3.01554687e-02]]],\n",
      "\n",
      "\n",
      "       [[[-4.86462750e-02, -1.94433689e-01, -3.77806686e-02,\n",
      "          -1.31841991e-02,  4.19722944e-02, -9.36078839e-03,\n",
      "          -5.08161448e-02, -6.54644370e-02, -1.11648872e-01,\n",
      "           5.02336100e-02, -2.45305791e-01, -1.56632856e-01,\n",
      "          -2.15989843e-01, -1.34630173e-01,  5.34695573e-02,\n",
      "           5.04600741e-02, -1.25937119e-01, -4.57436480e-02,\n",
      "           1.02964625e-01, -2.15660051e-01,  1.45867867e-02,\n",
      "           7.51201576e-03, -1.72401831e-01,  3.84131633e-03,\n",
      "          -6.37615770e-02, -9.93386880e-02,  3.13255563e-02,\n",
      "           3.33394445e-02, -1.63791358e-01, -2.28568427e-02]],\n",
      "\n",
      "        [[-8.84735361e-02,  1.20668754e-01,  1.16515815e-01,\n",
      "           1.01715051e-01,  1.13876514e-01, -8.56633410e-02,\n",
      "          -6.49757497e-03, -3.31490487e-02, -1.09307438e-01,\n",
      "          -8.37571323e-02, -1.62711293e-01,  5.80704510e-02,\n",
      "           2.49663353e-01,  1.27239659e-01, -1.22105375e-01,\n",
      "          -1.59831226e-01, -1.25633981e-02,  7.73907900e-02,\n",
      "          -2.31609419e-02, -2.74168819e-01, -1.16218366e-01,\n",
      "          -1.00937955e-01,  1.20216444e-01, -1.33801773e-01,\n",
      "           1.56189263e-01, -9.73537117e-02, -1.17856123e-01,\n",
      "           3.70934382e-02,  3.91085781e-02,  1.17701881e-01]],\n",
      "\n",
      "        [[-5.20861633e-02, -6.67495057e-02,  2.44570617e-02,\n",
      "           2.83784922e-02,  7.80517831e-02,  2.81471871e-02,\n",
      "          -7.13203326e-02,  6.93802088e-02, -1.42914101e-01,\n",
      "          -1.40957266e-01,  1.29523307e-01,  8.51629749e-02,\n",
      "          -1.37621969e-01, -1.60864785e-01,  4.98341732e-02,\n",
      "          -1.10392630e-01,  1.03229053e-01, -1.15384489e-01,\n",
      "           8.08533803e-02, -1.19481133e-02, -1.02216721e-01,\n",
      "          -1.83798280e-02,  2.40477324e-02, -8.55414718e-02,\n",
      "          -5.34788519e-02,  1.81701243e-01,  2.06625257e-02,\n",
      "          -1.05243385e-01, -5.59917316e-02, -1.78609148e-01]]]],\n",
      "      dtype=float32)>, <tf.Variable 'conv2d_6/bias:0' shape=(30,) dtype=float32, numpy=\n",
      "array([ 4.51291613e-02, -2.42492873e-02,  2.94036092e-03, -5.14588468e-02,\n",
      "       -7.85769224e-02, -9.36311781e-02, -3.80439758e-02, -6.13647737e-02,\n",
      "        1.26293451e-01,  1.58675725e-03, -5.71340136e-03, -7.03915581e-02,\n",
      "        5.08578122e-02, -8.61261692e-03, -8.90052468e-02, -1.55441999e-03,\n",
      "       -5.14258780e-02, -2.00414285e-02, -1.35317817e-01,  1.14301175e-01,\n",
      "        1.62014682e-02,  7.21741526e-04,  4.03395994e-03, -4.71224748e-02,\n",
      "       -5.79347543e-05,  1.90105960e-01, -7.19252825e-02, -3.34098877e-04,\n",
      "       -5.91291189e-02,  4.02803737e-04], dtype=float32)>]\n"
     ]
    }
   ],
   "source": [
    "print(model.layers[0].weights)"
   ]
  },
  {
   "cell_type": "code",
   "execution_count": null,
   "id": "0d448470",
   "metadata": {},
   "outputs": [],
   "source": []
  },
  {
   "cell_type": "code",
   "execution_count": null,
   "id": "a0b78ec4",
   "metadata": {},
   "outputs": [],
   "source": []
  },
  {
   "cell_type": "code",
   "execution_count": null,
   "id": "ba21972c",
   "metadata": {},
   "outputs": [],
   "source": []
  }
 ],
 "metadata": {
  "kernelspec": {
   "display_name": "Python 3 (ipykernel)",
   "language": "python",
   "name": "python3"
  },
  "language_info": {
   "codemirror_mode": {
    "name": "ipython",
    "version": 3
   },
   "file_extension": ".py",
   "mimetype": "text/x-python",
   "name": "python",
   "nbconvert_exporter": "python",
   "pygments_lexer": "ipython3",
   "version": "3.10.13"
  }
 },
 "nbformat": 4,
 "nbformat_minor": 5
}
